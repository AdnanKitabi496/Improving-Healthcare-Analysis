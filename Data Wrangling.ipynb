{
 "cells": [
  {
   "cell_type": "markdown",
   "metadata": {},
   "source": [
    "# Import Packages"
   ]
  },
  {
   "cell_type": "code",
   "execution_count": null,
   "metadata": {},
   "outputs": [],
   "source": [
    "import pandas as pd\n",
    "import numpy as np\n",
    "import datetime\n",
    "import warnings\n",
    "warnings.filterwarnings('ignore')"
   ]
  },
  {
   "cell_type": "markdown",
   "metadata": {},
   "source": [
    "# Load Data"
   ]
  },
  {
   "cell_type": "code",
   "execution_count": null,
   "metadata": {},
   "outputs": [],
   "source": [
    "data = pd.read_excel(r'C:\\Users\\91709\\Downloads\\Work\\UpWork\\Pete\\Raw Data.xlsx', sheet_name = 'Data')"
   ]
  },
  {
   "cell_type": "markdown",
   "metadata": {},
   "source": [
    "# HBA1C"
   ]
  },
  {
   "cell_type": "code",
   "execution_count": null,
   "metadata": {},
   "outputs": [],
   "source": [
    "data.loc[(data['Result Date'].notnull()) & (data['HbA1c'].isnull()) , 'HbA1c'] = 'Not Available' \n",
    "##Update NA where date is available but not HBA1C\n",
    "hbac = data.dropna(subset = ['Result Date']) #Drop rows where result date is blank\n",
    "hbac = hbac.drop_duplicates(subset=['InternalID', 'Result Date'] , keep=\"last\") \n",
    "#Drop rows where date is repeated for patient\n",
    "\n",
    "temp1 = hbac.groupby(['InternalID']) #Create a temporary and group it with patient\n",
    "temp1 = temp1.agg(Minimum_Date=('Result Date', np.min), Maximum_Date=('Result Date', np.max)) \n",
    "#Get the earliest and latest report date for each patient\n",
    "temp1 = temp1.reset_index() #Reset Index to access all columns\n",
    "temp1['months_to_add'] = 90 #Create a new column to be added to the earliest date to get the 1st visit after 90 days\n",
    "temp1['3 months'] = temp1['Minimum_Date'] + pd.TimedeltaIndex(temp1['months_to_add'], unit='D') \n",
    "#Add 90 days to the earliest date\n",
    "\n",
    "three_month_list = temp1['3 months'].to_list() #Store the above result in a list\n",
    "patient_list = temp1['InternalID'].to_list() #Store all patient ID in a list\n",
    "three_month_exact_date = [] #Create an empty list\n",
    "for (i,j) in zip(patient_list, three_month_list): #Loop through all the patient to get their 1st visit after 90 days\n",
    "    temp_hbac = hbac[hbac['InternalID'] == i]\n",
    "    date_working = temp_hbac[(temp_hbac['Result Date'] >= j)]\n",
    "    date = date_working['Result Date'].min()\n",
    "    three_month_exact_date.append(date)\n",
    "temp1['exact_3 months'] = three_month_exact_date #Create a column to get the 1st visit of each patient after 90 days\n",
    "temp1.loc[(temp1['exact_3 months'].isnull()) , 'treatment_duration'] = 'Less than 3 months'#Mark the new patient < 90 days\n",
    "\n",
    "hbac = hbac[['InternalID', 'Result Date', 'HbA1c']] #Select relevant columns from a detail database\n",
    "\n",
    "#Merge the detail database to get the HBA1C data for 1st visit, first visit after 3 months and latest visit of each patient\n",
    "output = temp1.merge(hbac, how='left', left_on=[\"InternalID\", \"Minimum_Date\"], right_on=[\"InternalID\",\"Result Date\"])\n",
    "output.rename(columns = {'HbA1c':'HbA1c_at_start'}, inplace = True)\n",
    "output = output.merge(hbac, how='left', left_on=[\"InternalID\", \"exact_3 months\"], right_on=[\"InternalID\",\"Result Date\"])\n",
    "output.rename(columns = {'HbA1c':'HbA1c_after_3_months'}, inplace = True)\n",
    "output = output.merge(hbac, how='left', left_on=[\"InternalID\", \"Maximum_Date\"], right_on=[\"InternalID\",\"Result Date\"])\n",
    "output.rename(columns = {'HbA1c':'HbA1c_latest'}, inplace = True)\n",
    "\n",
    "output = output[['InternalID', 'HbA1c_at_start', 'HbA1c_after_3_months', 'HbA1c_latest']] #Select relevant columns\n",
    "\n",
    "percent_change1 = output[(output['HbA1c_at_start'].notnull()) & (output['HbA1c_after_3_months'].notnull()) & \\\n",
    "                     (output['HbA1c_at_start'] != 'Not Available') & (output['HbA1c_after_3_months'] != 'Not Available') ]\n",
    "#Filter non null rows to calculate delta between start and 3 months\n",
    "percent_change1['%hba1c_change_after_first_3_months'] = (percent_change1['HbA1c_after_3_months'] \\\n",
    "                                          - percent_change1['HbA1c_at_start'])/ percent_change1['HbA1c_at_start']\n",
    "#Calculate % change between start and end of 3 months\n",
    "percent_change1 = percent_change1[['InternalID', '%hba1c_change_after_first_3_months']] #Select the ID and delta column\n",
    "#Repeat the steps for end of 3 months till end\n",
    "percent_change2 = output[(output['HbA1c_latest'].notnull()) & (output['HbA1c_after_3_months'].notnull()) & \\\n",
    "                     (output['HbA1c_latest'] != 'Not Available') & (output['HbA1c_after_3_months'] != 'Not Available') ]\n",
    "percent_change2['%hba1c_change_from_3_months_till_end'] = (percent_change2['HbA1c_latest'] \\\n",
    "                              - percent_change2['HbA1c_after_3_months'])/ percent_change2['HbA1c_after_3_months']\n",
    "percent_change2 = percent_change2[['InternalID', '%hba1c_change_from_3_months_till_end']]\n",
    "\n",
    "#Add both the delta column to main table\n",
    "output = output.merge(percent_change1, how='left', left_on=[\"InternalID\"], right_on=[\"InternalID\"])\n",
    "output = output.merge(percent_change2, how='left', left_on=[\"InternalID\"], right_on=[\"InternalID\"])"
   ]
  },
  {
   "cell_type": "markdown",
   "metadata": {},
   "source": [
    "# Weight"
   ]
  },
  {
   "cell_type": "code",
   "execution_count": null,
   "metadata": {},
   "outputs": [],
   "source": [
    "#Repeat all the steps performed for HBA1C except for report date use observation date and instead of HBA1C use Weight(kg)\n",
    "data.loc[(data['ObservationDate'].notnull()) & (data['Weight (kg)'].isnull()) , 'Weight (kg)'] = 'Not Available'\n",
    "weight = data.dropna(subset = ['ObservationDate'])\n",
    "weight = weight.drop_duplicates(subset=['InternalID', 'ObservationDate'] , keep=\"last\")\n",
    "\n",
    "temp2 = weight.groupby(['InternalID'])\n",
    "temp2 = temp2.agg(Minimum_Date=('ObservationDate', np.min), Maximum_Date=('ObservationDate', np.max))\n",
    "temp2 = temp2.reset_index()\n",
    "temp2['months_to_add'] = 90\n",
    "temp2['3 months'] = temp2['Minimum_Date'] + pd.TimedeltaIndex(temp2['months_to_add'], unit='D')\n",
    "\n",
    "three_month_list = temp2['3 months'].to_list()\n",
    "patient_list = temp2['InternalID'].to_list()\n",
    "three_month_exact_date = []\n",
    "for (i,j) in zip(patient_list, three_month_list):\n",
    "    temp_weight = weight[weight['InternalID'] == i]\n",
    "    date_working = temp_weight[(temp_weight['ObservationDate'] >= j)]\n",
    "    date = date_working['ObservationDate'].min()\n",
    "    three_month_exact_date.append(date)\n",
    "temp2['exact_3 months'] = three_month_exact_date\n",
    "temp2.loc[(temp1['exact_3 months'].isnull()) , 'treatment_duration'] = 'Less than 3 months'\n",
    "\n",
    "weight = weight[['InternalID', 'ObservationDate', 'Weight (kg)']]\n",
    "\n",
    "output2 = temp2.merge(weight, how='left', left_on=[\"InternalID\", \"Minimum_Date\"], \\\n",
    "                      right_on=[\"InternalID\",\"ObservationDate\"])\n",
    "output2.rename(columns = {'Weight (kg)':'Weight_at_start'}, inplace = True)\n",
    "output2 = output2.merge(weight, how='left', left_on=[\"InternalID\", \"exact_3 months\"], \\\n",
    "                        right_on=[\"InternalID\",\"ObservationDate\"])\n",
    "output2.rename(columns = {'Weight (kg)':'Weight_after_3_months'}, inplace = True)\n",
    "output2 = output2.merge(weight, how='left', left_on=[\"InternalID\", \"Maximum_Date\"], \\\n",
    "                        right_on=[\"InternalID\",\"ObservationDate\"])\n",
    "output2.rename(columns = {'Weight (kg)':'Weight_latest'}, inplace = True)\n",
    "\n",
    "output2= output2[['InternalID', 'Weight_at_start', 'Weight_after_3_months', 'Weight_latest']]\n",
    "\n",
    "percent_change1 = output2[(output2['Weight_at_start'].notnull()) & (output2['Weight_after_3_months'].notnull()) & \\\n",
    "                     (output2['Weight_at_start'] != 'Not Available') & \\\n",
    "                    (output2['Weight_after_3_months'] != 'Not Available')]\n",
    "percent_change1['%weight_change_after_first_3_months'] = (percent_change1['Weight_after_3_months'] \\\n",
    "                                          - percent_change1['Weight_at_start'])/ percent_change1['Weight_at_start']\n",
    "\n",
    "percent_change1 = percent_change1[['InternalID', '%weight_change_after_first_3_months']] \n",
    "percent_change2 = output2[(output2['Weight_latest'].notnull()) & (output2['Weight_after_3_months'].notnull()) & \\\n",
    "                     (output2['Weight_latest'] != 'Not Available') & \\\n",
    "                          (output2['Weight_after_3_months'] != 'Not Available') ]\n",
    "percent_change2['%weight_change_from_3_months_till_end'] = (percent_change2['Weight_latest'] \\\n",
    "                              - percent_change2['Weight_after_3_months'])/ percent_change2['Weight_after_3_months']\n",
    "percent_change2 = percent_change2[['InternalID', '%weight_change_from_3_months_till_end']]\n",
    "\n",
    "output2 = output2.merge(percent_change1, how='left', left_on=[\"InternalID\"], right_on=[\"InternalID\"])\n",
    "output2 = output2.merge(percent_change2, how='left', left_on=[\"InternalID\"], right_on=[\"InternalID\"])\n",
    "\n",
    "hbcnweight = output.merge(output2, how = 'outer', on = 'InternalID') \n",
    "#Merge HBA1C and Weight dateframe to get a consolidated view"
   ]
  },
  {
   "cell_type": "markdown",
   "metadata": {},
   "source": [
    "# Dose Change"
   ]
  },
  {
   "cell_type": "code",
   "execution_count": null,
   "metadata": {},
   "outputs": [],
   "source": [
    "dose_change = data[['InternalID', 'Dose change type']] #Select Relevant columns\n",
    "dose_change = dose_change.dropna(subset = ['Dose change type']) #Drop rows with no data\n",
    "\n",
    "dose_change = pd.get_dummies(dose_change) #Transform 1 column to 5 based on dosage change type\n",
    "dose_change.rename(columns = {'Dose change type_Ceased':'Ceased', 'Dose change type_Decreased': 'Decreased',\n",
    "'Dose change type_Increased': 'Increased', 'Dose change type_Started': 'Started', \\\n",
    "                             'Dose change type_Unchanged': 'Unchanged'}, inplace = True) #Rename the columns\n",
    "\n",
    "output3 = dose_change.groupby(['InternalID']).sum() #Group it with patient\n",
    "output3 = output3.reset_index() #Reset index to get access to all columns\n",
    "\n",
    "combined = hbcnweight.merge(output3, how = 'outer', on = 'InternalID') #Join it with main table"
   ]
  },
  {
   "cell_type": "markdown",
   "metadata": {},
   "source": [
    "# Save output as excel"
   ]
  },
  {
   "cell_type": "code",
   "execution_count": null,
   "metadata": {},
   "outputs": [],
   "source": [
    "combined.to_excel('Result.xlsx', index = False) #Save as excel"
   ]
  }
 ],
 "metadata": {
  "kernelspec": {
   "display_name": "Python 3 (ipykernel)",
   "language": "python",
   "name": "python3"
  },
  "language_info": {
   "codemirror_mode": {
    "name": "ipython",
    "version": 3
   },
   "file_extension": ".py",
   "mimetype": "text/x-python",
   "name": "python",
   "nbconvert_exporter": "python",
   "pygments_lexer": "ipython3",
   "version": "3.7.6"
  }
 },
 "nbformat": 4,
 "nbformat_minor": 4
}
